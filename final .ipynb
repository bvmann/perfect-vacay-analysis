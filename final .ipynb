{
 "cells": [
  {
   "cell_type": "code",
   "execution_count": 16,
   "metadata": {},
   "outputs": [],
   "source": [
    "# Dependencies and Setup\n",
    "import matplotlib.pyplot as plt\n",
    "import pandas as pd\n",
    "import numpy as np\n",
    "import requests\n",
    "import time\n",
    "from scipy.stats import linregress\n",
    "from pprint import pprint \n",
    "from citipy import citipy\n",
    "from config import api \n",
    "import scipy.stats as st\n",
    "#api.openweathermap.org/data/2.5/weather?id={city id}&appid={API key}\n",
    "base_url = 'http://api.openweathermap.org/data/2.5/weather?id='\n",
    "\n",
    "#query=f\"{base_url}+{cities}+'&appid='+{api}\"\n",
    "\n",
    "city_output = \"output_data/cities.csv\"\n",
    "\n",
    "# Range of latitudes and longitudes\n",
    "lat_range = (-90, 90)\n",
    "lng_range = (-180, 180)"
   ]
  },
  {
   "cell_type": "code",
   "execution_count": 5,
   "metadata": {},
   "outputs": [
    {
     "data": {
      "text/plain": [
       "627"
      ]
     },
     "execution_count": 5,
     "metadata": {},
     "output_type": "execute_result"
    }
   ],
   "source": [
    "at_lngs = []\n",
    "cities = []\n",
    "\n",
    "# Create a set of random lat and lng combinations\n",
    "lats = np.random.uniform(lat_range[0], lat_range[1], size=1500)\n",
    "lngs = np.random.uniform(lng_range[0], lng_range[1], size=1500)\n",
    "lat_lngs = zip(lats, lngs)\n",
    "\n",
    "# Identify nearest city for each lat, lng combination\n",
    "for lat_lng in lat_lngs:\n",
    "    city = citipy.nearest_city(lat_lng[0], lat_lng[1]).city_name\n",
    "    \n",
    "    # If the city is unique, then add it to a our cities list\n",
    "    if city not in cities:\n",
    "        cities.append(city)\n",
    "\n",
    "# Print the city count to confirm sufficient count\n",
    "len(cities)"
   ]
  },
  {
   "cell_type": "code",
   "execution_count": null,
   "metadata": {},
   "outputs": [],
   "source": []
  },
  {
   "cell_type": "code",
   "execution_count": 84,
   "metadata": {},
   "outputs": [],
   "source": [
    "cities_df=pd.DataFrame(cities)\n",
    "cities_df=cities_df.rename(columns={0 : 'City Name'})"
   ]
  },
  {
   "cell_type": "code",
   "execution_count": 85,
   "metadata": {},
   "outputs": [],
   "source": [
    "\n",
    "\n",
    "\n",
    "cities_df['Lat']=\"\"\n",
    "cities_df['Lng']=\"\"\n",
    "cities_df['Max Temp']=\"\"\n",
    "cities_df['Humidity']=\"\"\n",
    "cities_df['Cloudiness']=\"\"\n",
    "cities_df['Wind Speed']=\"\"\n",
    "cities_df['Country']=\"\"\n",
    "cities_df['Date']=\"\"\n",
    "\n",
    "\n"
   ]
  },
  {
   "cell_type": "code",
   "execution_count": null,
   "metadata": {},
   "outputs": [],
   "source": [
    "\n"
   ]
  },
  {
   "cell_type": "code",
   "execution_count": 8,
   "metadata": {},
   "outputs": [],
   "source": [
    "url= 'http://api.openweathermap.org/data/2.5/weather'\n",
    "params = {'appid' : api}\n",
    "for x in cities:\n",
    "    params = {'appid' : api,\n",
    "                 'q' : x}\n",
    "   "
   ]
  },
  {
   "cell_type": "code",
   "execution_count": null,
   "metadata": {},
   "outputs": [],
   "source": [
    "\n",
    "    \n"
   ]
  },
  {
   "cell_type": "code",
   "execution_count": 10,
   "metadata": {},
   "outputs": [
    {
     "name": "stdout",
     "output_type": "stream",
     "text": [
      "Beginning Data Retrieval\n",
      "-------------------\n",
      "Processing Record 0 in set 1 --- shrewsbury\n",
      "Processing Record 1 in set 1 --- sangar\n",
      "Processing Record 2 in set 1 --- vaini\n",
      "Processing Record 3 in set 1 --- bredasdorp\n",
      "Processing Record 4 in set 1 --- el faiyum\n",
      "city not found --- skip\n",
      "Processing Record 5 in set 1 --- chifeng\n",
      "Processing Record 6 in set 1 --- guilin\n",
      "Processing Record 7 in set 1 --- jamestown\n",
      "Processing Record 8 in set 1 --- new norfolk\n",
      "Processing Record 9 in set 1 --- babanusah\n",
      "city not found --- skip\n",
      "Processing Record 10 in set 1 --- champerico\n",
      "Processing Record 11 in set 1 --- yialos\n",
      "city not found --- skip\n",
      "Processing Record 12 in set 1 --- blythe\n",
      "Processing Record 13 in set 1 --- odweyne\n",
      "Processing Record 14 in set 1 --- hermanus\n",
      "Processing Record 15 in set 1 --- punta arenas\n",
      "Processing Record 16 in set 1 --- izhma\n",
      "Processing Record 17 in set 1 --- kodiak\n",
      "Processing Record 18 in set 1 --- navahrudak\n",
      "Processing Record 19 in set 1 --- illoqqortoormiut\n",
      "city not found --- skip\n",
      "Processing Record 20 in set 1 --- kapaa\n",
      "Processing Record 21 in set 1 --- kamenka\n",
      "Processing Record 22 in set 1 --- qaanaaq\n",
      "Processing Record 23 in set 1 --- ushuaia\n",
      "Processing Record 24 in set 1 --- mataura\n",
      "Processing Record 25 in set 1 --- bluff\n",
      "Processing Record 26 in set 1 --- sentyabrskiy\n",
      "city not found --- skip\n",
      "Processing Record 27 in set 1 --- saldanha\n",
      "Processing Record 28 in set 1 --- ust-ilimsk\n",
      "Processing Record 29 in set 1 --- fortuna\n",
      "Processing Record 30 in set 1 --- raudeberg\n",
      "Processing Record 31 in set 1 --- kamenskoye\n",
      "city not found --- skip\n",
      "Processing Record 32 in set 1 --- taolanaro\n",
      "city not found --- skip\n",
      "Processing Record 33 in set 1 --- coihaique\n",
      "Processing Record 34 in set 1 --- caravelas\n",
      "Processing Record 35 in set 1 --- avarua\n",
      "Processing Record 36 in set 1 --- yakeshi\n",
      "Processing Record 37 in set 1 --- te anau\n",
      "Processing Record 38 in set 1 --- piploda\n",
      "Processing Record 39 in set 1 --- hilo\n",
      "Processing Record 40 in set 1 --- chagda\n",
      "city not found --- skip\n",
      "Processing Record 41 in set 1 --- tuktoyaktuk\n",
      "Processing Record 42 in set 1 --- chalmette\n",
      "Processing Record 43 in set 1 --- busselton\n",
      "Processing Record 44 in set 1 --- hirara\n",
      "Processing Record 45 in set 1 --- caohai\n",
      "Processing Record 46 in set 1 --- luderitz\n",
      "Processing Record 47 in set 1 --- khatanga\n",
      "Processing Record 48 in set 1 --- calbuco\n",
      "Processing Record 49 in set 1 --- rikitea\n",
      "Processing Record 0 in set 2 --- marcona\n",
      "city not found --- skip\n",
      "Processing Record 1 in set 2 --- tambo\n",
      "Processing Record 2 in set 2 --- cotonou\n",
      "Processing Record 3 in set 2 --- kemijarvi\n",
      "Processing Record 4 in set 2 --- east london\n",
      "Processing Record 5 in set 2 --- pisco\n",
      "Processing Record 6 in set 2 --- saint george\n",
      "Processing Record 7 in set 2 --- grand river south east\n",
      "city not found --- skip\n",
      "Processing Record 8 in set 2 --- vila franca do campo\n",
      "Processing Record 9 in set 2 --- shimoda\n",
      "Processing Record 10 in set 2 --- talnakh\n",
      "Processing Record 11 in set 2 --- satuk\n",
      "Processing Record 12 in set 2 --- georgetown\n",
      "Processing Record 13 in set 2 --- baykit\n",
      "Processing Record 14 in set 2 --- aguimes\n",
      "Processing Record 15 in set 2 --- sola\n",
      "Processing Record 16 in set 2 --- lompoc\n",
      "Processing Record 17 in set 2 --- nueva guinea\n",
      "Processing Record 18 in set 2 --- mar del plata\n",
      "Processing Record 19 in set 2 --- castro\n",
      "Processing Record 20 in set 2 --- kutum\n",
      "Processing Record 21 in set 2 --- tasiilaq\n",
      "Processing Record 22 in set 2 --- sirari\n",
      "Processing Record 23 in set 2 --- klaksvik\n",
      "Processing Record 24 in set 2 --- dikson\n",
      "Processing Record 25 in set 2 --- saint-philippe\n",
      "Processing Record 26 in set 2 --- pulaski\n",
      "Processing Record 27 in set 2 --- barentsburg\n",
      "city not found --- skip\n",
      "Processing Record 28 in set 2 --- college\n",
      "Processing Record 29 in set 2 --- la ronge\n",
      "Processing Record 30 in set 2 --- shunyi\n",
      "Processing Record 31 in set 2 --- lebu\n",
      "Processing Record 32 in set 2 --- cairns\n",
      "Processing Record 33 in set 2 --- akhtubinsk\n",
      "Processing Record 34 in set 2 --- codrington\n",
      "Processing Record 35 in set 2 --- zhuhai\n",
      "Processing Record 36 in set 2 --- kidal\n",
      "Processing Record 37 in set 2 --- hobart\n",
      "Processing Record 38 in set 2 --- nouadhibou\n",
      "Processing Record 39 in set 2 --- upington\n",
      "Processing Record 40 in set 2 --- lorengau\n",
      "Processing Record 41 in set 2 --- laguna\n",
      "Processing Record 42 in set 2 --- vanimo\n",
      "Processing Record 43 in set 2 --- cherskiy\n",
      "Processing Record 44 in set 2 --- manggar\n",
      "Processing Record 45 in set 2 --- samusu\n",
      "city not found --- skip\n",
      "Processing Record 46 in set 2 --- clyde river\n",
      "Processing Record 47 in set 2 --- clovis\n",
      "Processing Record 48 in set 2 --- saskylakh\n",
      "Processing Record 49 in set 2 --- koumra\n",
      "Processing Record 0 in set 3 --- northam\n",
      "Processing Record 1 in set 3 --- eureka\n",
      "Processing Record 2 in set 3 --- kholodnyy\n",
      "Processing Record 3 in set 3 --- ca mau\n",
      "Processing Record 4 in set 3 --- iqaluit\n",
      "Processing Record 5 in set 3 --- sigerfjord\n",
      "city not found --- skip\n",
      "Processing Record 6 in set 3 --- nipawin\n",
      "Processing Record 7 in set 3 --- longyearbyen\n",
      "Processing Record 8 in set 3 --- albany\n",
      "Processing Record 9 in set 3 --- lumby\n",
      "Processing Record 10 in set 3 --- sosua\n",
      "Processing Record 11 in set 3 --- kruisfontein\n",
      "Processing Record 12 in set 3 --- vaitupu\n",
      "city not found --- skip\n",
      "Processing Record 13 in set 3 --- umzimvubu\n",
      "city not found --- skip\n",
      "Processing Record 14 in set 3 --- ratnagiri\n",
      "Processing Record 15 in set 3 --- kedrovyy\n",
      "Processing Record 16 in set 3 --- cape town\n",
      "Processing Record 17 in set 3 --- warri\n",
      "Processing Record 18 in set 3 --- baijiantan\n",
      "Processing Record 19 in set 3 --- nikolskoye\n",
      "Processing Record 20 in set 3 --- yellowknife\n",
      "Processing Record 21 in set 3 --- xining\n",
      "Processing Record 22 in set 3 --- marystown\n",
      "Processing Record 23 in set 3 --- preston\n",
      "Processing Record 24 in set 3 --- pandan\n",
      "Processing Record 25 in set 3 --- atuona\n",
      "Processing Record 26 in set 3 --- ilave\n",
      "Processing Record 27 in set 3 --- mugur-aksy\n",
      "Processing Record 28 in set 3 --- bengkulu\n",
      "Processing Record 29 in set 3 --- bethel\n",
      "Processing Record 30 in set 3 --- yagoua\n",
      "Processing Record 31 in set 3 --- port alfred\n",
      "Processing Record 32 in set 3 --- yaan\n",
      "Processing Record 33 in set 3 --- ola\n",
      "Processing Record 34 in set 3 --- lagoa\n",
      "Processing Record 35 in set 3 --- sauda\n",
      "Processing Record 36 in set 3 --- angoche\n",
      "Processing Record 37 in set 3 --- puerto ayora\n",
      "Processing Record 38 in set 3 --- powell river\n",
      "Processing Record 39 in set 3 --- victoria\n",
      "Processing Record 40 in set 3 --- barrow\n",
      "Processing Record 41 in set 3 --- oliver\n",
      "Processing Record 42 in set 3 --- attawapiskat\n",
      "city not found --- skip\n",
      "Processing Record 43 in set 3 --- chokurdakh\n",
      "Processing Record 44 in set 3 --- tabiauea\n",
      "city not found --- skip\n",
      "Processing Record 45 in set 3 --- lavrentiya\n",
      "Processing Record 46 in set 3 --- arraial do cabo\n",
      "Processing Record 47 in set 3 --- zhob\n",
      "Processing Record 48 in set 3 --- madaba\n",
      "Processing Record 49 in set 3 --- hithadhoo\n",
      "Processing Record 0 in set 4 --- havre-saint-pierre\n",
      "Processing Record 1 in set 4 --- amahai\n",
      "Processing Record 2 in set 4 --- tabou\n",
      "Processing Record 3 in set 4 --- thompson\n",
      "Processing Record 4 in set 4 --- lanzhou\n",
      "Processing Record 5 in set 4 --- gayeri\n",
      "Processing Record 6 in set 4 --- benjamin constant\n",
      "Processing Record 7 in set 4 --- sakakah\n",
      "Processing Record 8 in set 4 --- poya\n",
      "Processing Record 9 in set 4 --- bambanglipuro\n",
      "Processing Record 10 in set 4 --- tiksi\n",
      "Processing Record 11 in set 4 --- butaritari\n",
      "Processing Record 12 in set 4 --- leningradskiy\n",
      "Processing Record 13 in set 4 --- fare\n",
      "Processing Record 14 in set 4 --- bonavista\n",
      "Processing Record 15 in set 4 --- batagay-alyta\n",
      "Processing Record 16 in set 4 --- tura\n",
      "Processing Record 17 in set 4 --- mount isa\n",
      "Processing Record 18 in set 4 --- pringsewu\n",
      "Processing Record 19 in set 4 --- salinopolis\n",
      "Processing Record 20 in set 4 --- ciudad bolivar\n",
      "Processing Record 21 in set 4 --- bambous virieux\n",
      "Processing Record 22 in set 4 --- santa cruz de tenerife\n",
      "Processing Record 23 in set 4 --- kamennogorsk\n",
      "Processing Record 24 in set 4 --- belushya guba\n",
      "city not found --- skip\n",
      "Processing Record 25 in set 4 --- aplahoue\n",
      "Processing Record 26 in set 4 --- catamarca\n",
      "Processing Record 27 in set 4 --- taltal\n",
      "Processing Record 28 in set 4 --- damghan\n",
      "Processing Record 29 in set 4 --- asau\n"
     ]
    },
    {
     "name": "stdout",
     "output_type": "stream",
     "text": [
      "Processing Record 30 in set 4 --- cotui\n",
      "Processing Record 31 in set 4 --- dingle\n",
      "Processing Record 32 in set 4 --- nanortalik\n",
      "Processing Record 33 in set 4 --- gualeguay\n",
      "Processing Record 34 in set 4 --- plouzane\n",
      "Processing Record 35 in set 4 --- haimen\n",
      "Processing Record 36 in set 4 --- camacha\n",
      "Processing Record 37 in set 4 --- avera\n",
      "Processing Record 38 in set 4 --- norman wells\n",
      "Processing Record 39 in set 4 --- brae\n",
      "Processing Record 40 in set 4 --- naron\n",
      "Processing Record 41 in set 4 --- palana\n",
      "Processing Record 42 in set 4 --- kaitangata\n",
      "Processing Record 43 in set 4 --- ponta do sol\n",
      "Processing Record 44 in set 4 --- nampula\n",
      "Processing Record 45 in set 4 --- axim\n",
      "Processing Record 46 in set 4 --- mahebourg\n",
      "Processing Record 47 in set 4 --- cabo san lucas\n",
      "Processing Record 48 in set 4 --- soyo\n",
      "Processing Record 49 in set 4 --- tchibanga\n",
      "Processing Record 0 in set 5 --- praia\n",
      "Processing Record 1 in set 5 --- narsaq\n",
      "Processing Record 2 in set 5 --- fuerte\n",
      "Processing Record 3 in set 5 --- karratha\n",
      "Processing Record 4 in set 5 --- vetluga\n",
      "Processing Record 5 in set 5 --- makakilo city\n",
      "Processing Record 6 in set 5 --- ainazi\n",
      "Processing Record 7 in set 5 --- samarai\n",
      "Processing Record 8 in set 5 --- ouadda\n",
      "Processing Record 9 in set 5 --- bolgatanga\n",
      "Processing Record 10 in set 5 --- myrtle grove\n",
      "Processing Record 11 in set 5 --- antofagasta\n",
      "Processing Record 12 in set 5 --- aromashevo\n",
      "Processing Record 13 in set 5 --- wattegama\n",
      "Processing Record 14 in set 5 --- saleaula\n",
      "city not found --- skip\n",
      "Processing Record 15 in set 5 --- zhanaozen\n",
      "Processing Record 16 in set 5 --- rio grande\n",
      "Processing Record 17 in set 5 --- chuy\n",
      "Processing Record 18 in set 5 --- paradwip\n",
      "city not found --- skip\n",
      "Processing Record 19 in set 5 --- torbay\n",
      "Processing Record 20 in set 5 --- ancud\n",
      "Processing Record 21 in set 5 --- kahului\n",
      "Processing Record 22 in set 5 --- saint-joseph\n",
      "Processing Record 23 in set 5 --- hualmay\n",
      "Processing Record 24 in set 5 --- sterling\n",
      "Processing Record 25 in set 5 --- verkhnyaya inta\n",
      "Processing Record 26 in set 5 --- ribeira grande\n",
      "Processing Record 27 in set 5 --- vardo\n",
      "Processing Record 28 in set 5 --- esperance\n",
      "Processing Record 29 in set 5 --- geraldton\n",
      "Processing Record 30 in set 5 --- kazalinsk\n",
      "city not found --- skip\n",
      "Processing Record 31 in set 5 --- maldonado\n",
      "Processing Record 32 in set 5 --- qaqortoq\n",
      "Processing Record 33 in set 5 --- mutata\n",
      "Processing Record 34 in set 5 --- along\n",
      "Processing Record 35 in set 5 --- langevag\n",
      "Processing Record 36 in set 5 --- merauke\n",
      "Processing Record 37 in set 5 --- nome\n",
      "Processing Record 38 in set 5 --- koumac\n",
      "Processing Record 39 in set 5 --- kasempa\n",
      "Processing Record 40 in set 5 --- kinablangan\n",
      "Processing Record 41 in set 5 --- alice springs\n",
      "Processing Record 42 in set 5 --- burnie\n",
      "Processing Record 43 in set 5 --- hamilton\n",
      "Processing Record 44 in set 5 --- pauini\n",
      "Processing Record 45 in set 5 --- encruzilhada do sul\n",
      "Processing Record 46 in set 5 --- port hardy\n",
      "Processing Record 47 in set 5 --- carnarvon\n",
      "Processing Record 48 in set 5 --- ahipara\n",
      "Processing Record 49 in set 5 --- yurginskoye\n",
      "Processing Record 0 in set 6 --- great yarmouth\n",
      "Processing Record 1 in set 6 --- primorsk\n",
      "Processing Record 2 in set 6 --- pevek\n",
      "Processing Record 3 in set 6 --- port blair\n",
      "Processing Record 4 in set 6 --- zaplyusye\n",
      "city not found --- skip\n",
      "Processing Record 5 in set 6 --- lolua\n",
      "city not found --- skip\n",
      "Processing Record 6 in set 6 --- mildura\n",
      "Processing Record 7 in set 6 --- nyurba\n",
      "Processing Record 8 in set 6 --- kununurra\n",
      "Processing Record 9 in set 6 --- segezha\n",
      "Processing Record 10 in set 6 --- bereda\n",
      "Processing Record 11 in set 6 --- hongjiang\n",
      "Processing Record 12 in set 6 --- egvekinot\n",
      "Processing Record 13 in set 6 --- requena\n",
      "Processing Record 14 in set 6 --- le port\n",
      "Processing Record 15 in set 6 --- shache\n",
      "Processing Record 16 in set 6 --- kijang\n",
      "Processing Record 17 in set 6 --- altamira\n",
      "Processing Record 18 in set 6 --- concarneau\n",
      "Processing Record 19 in set 6 --- marzuq\n",
      "Processing Record 20 in set 6 --- guerrero negro\n",
      "Processing Record 21 in set 6 --- cervo\n",
      "Processing Record 22 in set 6 --- husavik\n",
      "Processing Record 23 in set 6 --- san blas\n",
      "Processing Record 24 in set 6 --- prestea\n",
      "Processing Record 25 in set 6 --- provideniya\n",
      "Processing Record 26 in set 6 --- comodoro rivadavia\n",
      "Processing Record 27 in set 6 --- yulara\n",
      "Processing Record 28 in set 6 --- ximei\n",
      "Processing Record 29 in set 6 --- pacific grove\n",
      "Processing Record 30 in set 6 --- nhulunbuy\n",
      "Processing Record 31 in set 6 --- kodinsk\n",
      "Processing Record 32 in set 6 --- chapais\n",
      "Processing Record 33 in set 6 --- padang\n",
      "Processing Record 34 in set 6 --- rawson\n",
      "Processing Record 35 in set 6 --- oil city\n",
      "Processing Record 36 in set 6 --- namibe\n",
      "Processing Record 37 in set 6 --- san quintin\n",
      "Processing Record 38 in set 6 --- ixtapa\n",
      "Processing Record 39 in set 6 --- grand gaube\n",
      "Processing Record 40 in set 6 --- san patricio\n",
      "Processing Record 41 in set 6 --- braganca\n",
      "Processing Record 42 in set 6 --- narkevychi\n",
      "Processing Record 43 in set 6 --- nianzishan\n",
      "Processing Record 44 in set 6 --- kotri\n",
      "Processing Record 45 in set 6 --- lasa\n",
      "Processing Record 46 in set 6 --- tilichiki\n",
      "Processing Record 47 in set 6 --- andenes\n",
      "Processing Record 48 in set 6 --- cidreira\n",
      "Processing Record 49 in set 6 --- nambucca heads\n",
      "Processing Record 0 in set 7 --- mayo\n",
      "Processing Record 1 in set 7 --- puerto escondido\n",
      "Processing Record 2 in set 7 --- krasnoselkup\n",
      "Processing Record 3 in set 7 --- la palma\n",
      "Processing Record 4 in set 7 --- fairbanks\n",
      "Processing Record 5 in set 7 --- maarianhamina\n",
      "Processing Record 6 in set 7 --- yongan\n",
      "Processing Record 7 in set 7 --- bima\n",
      "Processing Record 8 in set 7 --- scarborough\n",
      "Processing Record 9 in set 7 --- dunedin\n",
      "Processing Record 10 in set 7 --- linjiang\n",
      "Processing Record 11 in set 7 --- mercedes\n",
      "Processing Record 12 in set 7 --- ishigaki\n",
      "Processing Record 13 in set 7 --- sao felix do xingu\n",
      "Processing Record 14 in set 7 --- kakonko\n",
      "Processing Record 15 in set 7 --- chumikan\n",
      "Processing Record 16 in set 7 --- pafos\n",
      "Processing Record 17 in set 7 --- ugoofaaru\n",
      "Processing Record 18 in set 7 --- sao filipe\n",
      "Processing Record 19 in set 7 --- gizo\n",
      "Processing Record 20 in set 7 --- goderich\n",
      "Processing Record 21 in set 7 --- nangomba\n",
      "Processing Record 22 in set 7 --- aktau\n",
      "Processing Record 23 in set 7 --- zhigansk\n",
      "Processing Record 24 in set 7 --- nguru\n",
      "Processing Record 25 in set 7 --- atbasar\n",
      "Processing Record 26 in set 7 --- taoudenni\n",
      "Processing Record 27 in set 7 --- hervey bay\n",
      "Processing Record 28 in set 7 --- port-gentil\n",
      "Processing Record 29 in set 7 --- una\n",
      "Processing Record 30 in set 7 --- tandil\n",
      "Processing Record 31 in set 7 --- saint anthony\n",
      "Processing Record 32 in set 7 --- san cristobal\n",
      "Processing Record 33 in set 7 --- kushiro\n",
      "Processing Record 34 in set 7 --- waipawa\n",
      "Processing Record 35 in set 7 --- tumannyy\n",
      "city not found --- skip\n",
      "Processing Record 36 in set 7 --- nelson bay\n",
      "Processing Record 37 in set 7 --- dukat\n",
      "Processing Record 38 in set 7 --- clifton\n",
      "Processing Record 39 in set 7 --- fuling\n",
      "Processing Record 40 in set 7 --- mount gambier\n",
      "Processing Record 41 in set 7 --- sao joao da barra\n",
      "Processing Record 42 in set 7 --- daru\n",
      "Processing Record 43 in set 7 --- moose factory\n",
      "Processing Record 44 in set 7 --- paros\n",
      "Processing Record 45 in set 7 --- altagracia de orituco\n",
      "Processing Record 46 in set 7 --- smithers\n",
      "Processing Record 47 in set 7 --- glenwood springs\n",
      "Processing Record 48 in set 7 --- pervomayskoye\n",
      "Processing Record 49 in set 7 --- sampit\n",
      "Processing Record 0 in set 8 --- aflu\n",
      "city not found --- skip\n",
      "Processing Record 1 in set 8 --- bayangol\n",
      "Processing Record 2 in set 8 --- calvinia\n",
      "Processing Record 3 in set 8 --- terra santa\n",
      "Processing Record 4 in set 8 --- severo-kurilsk\n",
      "Processing Record 5 in set 8 --- norsup\n",
      "Processing Record 6 in set 8 --- maryville\n",
      "Processing Record 7 in set 8 --- baft\n",
      "Processing Record 8 in set 8 --- anage\n",
      "Processing Record 9 in set 8 --- marrakesh\n",
      "Processing Record 10 in set 8 --- krugersdorp\n",
      "Processing Record 11 in set 8 --- fort-shevchenko\n",
      "Processing Record 12 in set 8 --- novikovo\n",
      "Processing Record 13 in set 8 --- port moresby\n",
      "Processing Record 14 in set 8 --- cockburn harbour\n",
      "city not found --- skip\n",
      "Processing Record 15 in set 8 --- eregli\n"
     ]
    },
    {
     "name": "stdout",
     "output_type": "stream",
     "text": [
      "Processing Record 16 in set 8 --- tahta\n",
      "Processing Record 17 in set 8 --- port elizabeth\n",
      "Processing Record 18 in set 8 --- prince rupert\n",
      "Processing Record 19 in set 8 --- bolshaya murta\n",
      "city not found --- skip\n",
      "Processing Record 20 in set 8 --- contamana\n",
      "Processing Record 21 in set 8 --- aybak\n",
      "city not found --- skip\n",
      "Processing Record 22 in set 8 --- kastamonu\n",
      "Processing Record 23 in set 8 --- arica\n",
      "Processing Record 24 in set 8 --- yar-sale\n",
      "Processing Record 25 in set 8 --- katsuura\n",
      "Processing Record 26 in set 8 --- sorland\n",
      "Processing Record 27 in set 8 --- buraydah\n",
      "Processing Record 28 in set 8 --- hohhot\n",
      "Processing Record 29 in set 8 --- san policarpo\n",
      "Processing Record 30 in set 8 --- adrar\n",
      "Processing Record 31 in set 8 --- corinto\n",
      "Processing Record 32 in set 8 --- bhakkar\n",
      "Processing Record 33 in set 8 --- kuminskiy\n",
      "Processing Record 34 in set 8 --- snellville\n",
      "Processing Record 35 in set 8 --- tingrela\n",
      "city not found --- skip\n",
      "Processing Record 36 in set 8 --- upernavik\n",
      "Processing Record 37 in set 8 --- windsor\n",
      "Processing Record 38 in set 8 --- konstantinovka\n",
      "Processing Record 39 in set 8 --- abu samrah\n",
      "Processing Record 40 in set 8 --- coquimbo\n",
      "Processing Record 41 in set 8 --- viedma\n",
      "Processing Record 42 in set 8 --- nueva gorgona\n",
      "Processing Record 43 in set 8 --- minna\n",
      "Processing Record 44 in set 8 --- korla\n",
      "Processing Record 45 in set 8 --- tsihombe\n",
      "city not found --- skip\n",
      "Processing Record 46 in set 8 --- wanxian\n",
      "Processing Record 47 in set 8 --- toowoomba\n",
      "Processing Record 48 in set 8 --- harrisonburg\n",
      "Processing Record 49 in set 8 --- hihifo\n",
      "city not found --- skip\n",
      "Processing Record 0 in set 9 --- lambarene\n",
      "Processing Record 1 in set 9 --- sao miguel do araguaia\n",
      "Processing Record 2 in set 9 --- paka\n",
      "Processing Record 3 in set 9 --- mys shmidta\n",
      "city not found --- skip\n",
      "Processing Record 4 in set 9 --- belem de sao francisco\n",
      "Processing Record 5 in set 9 --- srednebelaya\n",
      "Processing Record 6 in set 9 --- kayankulam\n",
      "Processing Record 7 in set 9 --- kirakira\n",
      "Processing Record 8 in set 9 --- alofi\n",
      "Processing Record 9 in set 9 --- bayevo\n",
      "Processing Record 10 in set 9 --- moundsville\n",
      "Processing Record 11 in set 9 --- faya\n",
      "Processing Record 12 in set 9 --- istanbul\n",
      "Processing Record 13 in set 9 --- inverness\n",
      "Processing Record 14 in set 9 --- nazas\n",
      "Processing Record 15 in set 9 --- urdoma\n",
      "Processing Record 16 in set 9 --- yerbogachen\n",
      "Processing Record 17 in set 9 --- airai\n",
      "Processing Record 18 in set 9 --- barraute\n",
      "Processing Record 19 in set 9 --- okhotsk\n",
      "Processing Record 20 in set 9 --- basse\n",
      "Processing Record 21 in set 9 --- alcala de henares\n",
      "Processing Record 22 in set 9 --- sayula\n",
      "Processing Record 23 in set 9 --- kungurtug\n",
      "Processing Record 24 in set 9 --- zhongshu\n",
      "Processing Record 25 in set 9 --- constitucion\n",
      "Processing Record 26 in set 9 --- kroya\n",
      "Processing Record 27 in set 9 --- roald\n",
      "Processing Record 28 in set 9 --- xuanwu\n",
      "Processing Record 29 in set 9 --- alamosa\n",
      "Processing Record 30 in set 9 --- paita\n",
      "Processing Record 31 in set 9 --- broome\n",
      "Processing Record 32 in set 9 --- ostrovnoy\n",
      "Processing Record 33 in set 9 --- moba\n",
      "Processing Record 34 in set 9 --- nsukka\n",
      "Processing Record 35 in set 9 --- jiujiang\n",
      "Processing Record 36 in set 9 --- keti bandar\n",
      "Processing Record 37 in set 9 --- matam\n",
      "Processing Record 38 in set 9 --- yicheng\n",
      "Processing Record 39 in set 9 --- jacksonville\n",
      "Processing Record 40 in set 9 --- sobolevo\n",
      "Processing Record 41 in set 9 --- khasan\n",
      "Processing Record 42 in set 9 --- ruatoria\n",
      "city not found --- skip\n",
      "Processing Record 43 in set 9 --- richards bay\n",
      "Processing Record 44 in set 9 --- rocha\n",
      "Processing Record 45 in set 9 --- marv dasht\n",
      "city not found --- skip\n",
      "Processing Record 46 in set 9 --- harnosand\n",
      "Processing Record 47 in set 9 --- takoradi\n",
      "Processing Record 48 in set 9 --- isangel\n",
      "Processing Record 49 in set 9 --- beringovskiy\n",
      "Processing Record 0 in set 10 --- la paz\n",
      "Processing Record 1 in set 10 --- flinders\n",
      "Processing Record 2 in set 10 --- lazaro cardenas\n",
      "Processing Record 3 in set 10 --- gallatin\n",
      "Processing Record 4 in set 10 --- serenje\n",
      "Processing Record 5 in set 10 --- faridkot\n",
      "Processing Record 6 in set 10 --- nguiu\n",
      "city not found --- skip\n",
      "Processing Record 7 in set 10 --- sindor\n",
      "Processing Record 8 in set 10 --- burkhala\n",
      "city not found --- skip\n",
      "Processing Record 9 in set 10 --- orchard homes\n",
      "Processing Record 10 in set 10 --- mahibadhoo\n",
      "Processing Record 11 in set 10 --- seoul\n",
      "Processing Record 12 in set 10 --- suba\n",
      "Processing Record 13 in set 10 --- mnogovershinnyy\n",
      "Processing Record 14 in set 10 --- kargasok\n",
      "Processing Record 15 in set 10 --- deputatskiy\n",
      "Processing Record 16 in set 10 --- houlton\n",
      "Processing Record 17 in set 10 --- mahajanga\n",
      "Processing Record 18 in set 10 --- komsomolsk\n",
      "Processing Record 19 in set 10 --- naze\n",
      "Processing Record 20 in set 10 --- buchanan\n",
      "Processing Record 21 in set 10 --- shima\n",
      "Processing Record 22 in set 10 --- luanda\n",
      "Processing Record 23 in set 10 --- turukhansk\n",
      "Processing Record 24 in set 10 --- mogadishu\n",
      "Processing Record 25 in set 10 --- lata\n",
      "Processing Record 26 in set 10 --- lewisville\n",
      "Processing Record 27 in set 10 --- kenai\n",
      "Processing Record 28 in set 10 --- hasaki\n",
      "Processing Record 29 in set 10 --- kandi\n",
      "Processing Record 30 in set 10 --- ayagoz\n",
      "Processing Record 31 in set 10 --- andros town\n",
      "Processing Record 32 in set 10 --- genhe\n",
      "Processing Record 33 in set 10 --- jalapa\n",
      "Processing Record 34 in set 10 --- shingu\n",
      "Processing Record 35 in set 10 --- surab\n",
      "Processing Record 36 in set 10 --- sioux lookout\n",
      "Processing Record 37 in set 10 --- margate\n",
      "Processing Record 38 in set 10 --- beloha\n",
      "Processing Record 39 in set 10 --- san-pedro\n",
      "Processing Record 40 in set 10 --- kalianget\n",
      "Processing Record 41 in set 10 --- latung\n",
      "Processing Record 42 in set 10 --- nizhneyansk\n",
      "city not found --- skip\n",
      "Processing Record 43 in set 10 --- ilo\n",
      "Processing Record 44 in set 10 --- meulaboh\n",
      "Processing Record 45 in set 10 --- murchison\n",
      "Processing Record 46 in set 10 --- zhangjiakou\n",
      "Processing Record 47 in set 10 --- kommunar\n",
      "Processing Record 48 in set 10 --- bubaque\n",
      "Processing Record 49 in set 10 --- vila velha\n",
      "Processing Record 0 in set 11 --- comarapa\n",
      "Processing Record 1 in set 11 --- medicine hat\n",
      "Processing Record 2 in set 11 --- saint-leu\n",
      "Processing Record 3 in set 11 --- goure\n",
      "Processing Record 4 in set 11 --- esna\n",
      "Processing Record 5 in set 11 --- port augusta\n",
      "Processing Record 6 in set 11 --- ondangwa\n",
      "Processing Record 7 in set 11 --- patitirion\n",
      "Processing Record 8 in set 11 --- tommot\n",
      "Processing Record 9 in set 11 --- petropavlovsk-kamchatskiy\n",
      "Processing Record 10 in set 11 --- goedereede\n",
      "Processing Record 11 in set 11 --- fonte boa\n",
      "Processing Record 12 in set 11 --- manga\n",
      "Processing Record 13 in set 11 --- kasiri\n",
      "Processing Record 14 in set 11 --- bac lieu\n",
      "Processing Record 15 in set 11 --- ayios kirikos\n",
      "city not found --- skip\n",
      "Processing Record 16 in set 11 --- avsyunino\n",
      "Processing Record 17 in set 11 --- bulawayo\n",
      "Processing Record 18 in set 11 --- springbok\n",
      "Processing Record 19 in set 11 --- vestmannaeyjar\n",
      "Processing Record 20 in set 11 --- port hueneme\n",
      "Processing Record 21 in set 11 --- adelaide\n",
      "Processing Record 22 in set 11 --- port lincoln\n",
      "Processing Record 23 in set 11 --- umm durman\n",
      "city not found --- skip\n",
      "Processing Record 24 in set 11 --- iracoubo\n",
      "Processing Record 25 in set 11 --- ilulissat\n",
      "Processing Record 26 in set 11 --- celestun\n",
      "Processing Record 27 in set 11 --- leoben\n",
      "Processing Record 28 in set 11 --- zavodouspenskoye\n",
      "Processing Record 29 in set 11 --- araouane\n",
      "Processing Record 30 in set 11 --- paamiut\n",
      "Processing Record 31 in set 11 --- majene\n",
      "Processing Record 32 in set 11 --- tete\n",
      "Processing Record 33 in set 11 --- urfa\n",
      "city not found --- skip\n",
      "Processing Record 34 in set 11 --- noumea\n",
      "Processing Record 35 in set 11 --- hun\n",
      "Processing Record 36 in set 11 --- prachuap khiri khan\n",
      "Processing Record 37 in set 11 --- lai\n",
      "Processing Record 38 in set 11 --- mo i rana\n",
      "Processing Record 39 in set 11 --- mecca\n",
      "Processing Record 40 in set 11 --- cam ranh\n",
      "Processing Record 41 in set 11 --- hit\n",
      "Processing Record 42 in set 11 --- louisbourg\n",
      "city not found --- skip\n",
      "Processing Record 43 in set 11 --- wahiawa\n",
      "Processing Record 44 in set 11 --- chalchihuites\n",
      "Processing Record 45 in set 11 --- gelibolu\n"
     ]
    },
    {
     "name": "stdout",
     "output_type": "stream",
     "text": [
      "Processing Record 46 in set 11 --- souillac\n",
      "Processing Record 47 in set 11 --- cedral\n",
      "Processing Record 48 in set 11 --- coxim\n",
      "Processing Record 49 in set 11 --- dolinsk\n",
      "Processing Record 0 in set 12 --- bastia\n",
      "Processing Record 1 in set 12 --- matrei\n",
      "city not found --- skip\n",
      "Processing Record 2 in set 12 --- haines junction\n",
      "Processing Record 3 in set 12 --- edmundston\n",
      "Processing Record 4 in set 12 --- ushtobe\n",
      "Processing Record 5 in set 12 --- praia da vitoria\n",
      "Processing Record 6 in set 12 --- cabatuan\n",
      "Processing Record 7 in set 12 --- kalomo\n",
      "city not found --- skip\n",
      "Processing Record 8 in set 12 --- lamu\n",
      "Processing Record 9 in set 12 --- saint-denis\n",
      "Processing Record 10 in set 12 --- marsabit\n",
      "Processing Record 11 in set 12 --- vanavara\n",
      "Processing Record 12 in set 12 --- jerez\n",
      "Processing Record 13 in set 12 --- malanje\n",
      "Processing Record 14 in set 12 --- batak\n",
      "Processing Record 15 in set 12 --- hambantota\n",
      "Processing Record 16 in set 12 --- zyryanka\n",
      "Processing Record 17 in set 12 --- kabare\n",
      "Processing Record 18 in set 12 --- kavieng\n",
      "Processing Record 19 in set 12 --- vao\n",
      "Processing Record 20 in set 12 --- partizanskoye\n",
      "Processing Record 21 in set 12 --- amderma\n",
      "city not found --- skip\n",
      "Processing Record 22 in set 12 --- grindavik\n",
      "Processing Record 23 in set 12 --- cochrane\n",
      "Processing Record 24 in set 12 --- semypolky\n",
      "Processing Record 25 in set 12 --- kauhajoki\n",
      "Processing Record 26 in set 12 --- komsomolskiy\n",
      "Processing Record 27 in set 12 --- nyrob\n",
      "Processing Record 28 in set 12 --- santa maria\n",
      "Processing Record 29 in set 12 --- mahina\n",
      "Processing Record 30 in set 12 --- guna\n",
      "Processing Record 31 in set 12 --- sydney\n",
      "Processing Record 32 in set 12 --- angra\n",
      "city not found --- skip\n",
      "Processing Record 33 in set 12 --- akdepe\n",
      "Processing Record 34 in set 12 --- halalo\n",
      "city not found --- skip\n",
      "Processing Record 35 in set 12 --- zabid\n",
      "Processing Record 36 in set 12 --- pangai\n",
      "Processing Record 37 in set 12 --- opobo\n",
      "city not found --- skip\n",
      "Processing Record 38 in set 12 --- hobyo\n",
      "Processing Record 39 in set 12 --- la asuncion\n",
      "Processing Record 40 in set 12 --- toktogul\n",
      "Processing Record 41 in set 12 --- oksfjord\n",
      "Processing Record 42 in set 12 --- yelan\n",
      "Processing Record 43 in set 12 --- atar\n",
      "Processing Record 44 in set 12 --- yangcun\n",
      "Processing Record 45 in set 12 --- popondetta\n",
      "Processing Record 46 in set 12 --- otane\n",
      "Processing Record 47 in set 12 --- vostok\n",
      "Processing Record 48 in set 12 --- cochirleanca\n",
      "Processing Record 49 in set 12 --- zhaotong\n",
      "Processing Record 0 in set 13 --- sitka\n",
      "Processing Record 1 in set 13 --- guiglo\n",
      "Processing Record 2 in set 13 --- ratholo\n",
      "Processing Record 3 in set 13 --- disna\n",
      "Processing Record 4 in set 13 --- bagdarin\n",
      "Processing Record 5 in set 13 --- mushie\n",
      "Processing Record 6 in set 13 --- vila do maio\n",
      "Processing Record 7 in set 13 --- tuatapere\n",
      "Processing Record 8 in set 13 --- ransang\n",
      "Processing Record 9 in set 13 --- kolochava\n",
      "Processing Record 10 in set 13 --- razole\n",
      "Processing Record 11 in set 13 --- labuhan\n",
      "Processing Record 12 in set 13 --- lensk\n",
      "Processing Record 13 in set 13 --- dhamtari\n",
      "Processing Record 14 in set 13 --- olafsvik\n",
      "Processing Record 15 in set 13 --- bathsheba\n",
      "Processing Record 16 in set 13 --- magadan\n",
      "Processing Record 17 in set 13 --- wulanhaote\n",
      "city not found --- skip\n",
      "Processing Record 18 in set 13 --- barra dos coqueiros\n",
      "Processing Record 19 in set 13 --- port macquarie\n",
      "Processing Record 20 in set 13 --- pangkalanbuun\n",
      "Processing Record 21 in set 13 --- muroto\n",
      "Processing Record 22 in set 13 --- chimbote\n",
      "Processing Record 23 in set 13 --- dahegam\n",
      "Processing Record 24 in set 13 --- issenye\n",
      "Processing Record 25 in set 13 --- igarka\n",
      "Processing Record 26 in set 13 --- filadelfia\n"
     ]
    }
   ],
   "source": [
    "url= 'http://api.openweathermap.org/data/2.5/weather'\n",
    "params = {'appid' : api}\n",
    "print('Beginning Data Retrieval')\n",
    "print('-------------------')\n",
    "counts = 0 \n",
    "sett = 1 \n",
    "\n",
    "\n",
    "for index,rows in cities_df.iterrows():\n",
    "    cityname = rows[\"City Name\"]\n",
    "    params['q'] = cityname\n",
    "    print(f\"Processing Record {counts} in set {sett} --- {cityname}\")\n",
    "    response = requests.get(url,params=params).json()\n",
    "    try:\n",
    "        \n",
    "        cities_df.loc[index, 'Lat'] = response['coord']['lat']      \n",
    "        cities_df.loc[index, 'Lng'] = response['coord']['lon']\n",
    "        cities_df.loc[index, 'Max Temp'] = response['main']['temp_max']\n",
    "        cities_df.loc[index, 'Humidity'] = response['main']['humidity']\n",
    "        cities_df.loc[index, 'Cloudiness'] = response['clouds']['all']\n",
    "        cities_df.loc[index, 'Wind Speed'] = response['wind']['speed']\n",
    "        cities_df.loc[index, 'Country'] = response['sys']['country']      \n",
    "        cities_df.loc[index, 'Date'] = response['dt']\n",
    "    \n",
    "    except:\n",
    "          print('city not found --- skip')\n",
    "    \n",
    "\n",
    "    counts += 1 \n",
    "    if counts == 50:\n",
    "        counts=0\n",
    "        sett+=1\n",
    "          \n",
    "        time.sleep(20)\n",
    "          \n",
    "          \n",
    "              "
   ]
  },
  {
   "cell_type": "code",
   "execution_count": null,
   "metadata": {
    "scrolled": true
   },
   "outputs": [],
   "source": []
  },
  {
   "cell_type": "code",
   "execution_count": 31,
   "metadata": {
    "scrolled": true
   },
   "outputs": [
    {
     "data": {
      "text/plain": [
       "City Name     object\n",
       "Lat           object\n",
       "Lng           object\n",
       "Max Temp      object\n",
       "Humidity      object\n",
       "Cloudiness    object\n",
       "Wind Speed    object\n",
       "Country       object\n",
       "Date          object\n",
       "dtype: object"
      ]
     },
     "execution_count": 31,
     "metadata": {},
     "output_type": "execute_result"
    }
   ],
   "source": [
    "#dataframe created with object as datatypes for all columns \n",
    "cities_df.dtypes"
   ]
  },
  {
   "cell_type": "code",
   "execution_count": 16,
   "metadata": {},
   "outputs": [],
   "source": [
    "#export as csv\n",
    "cities_df.to_csv(city_output)\n"
   ]
  },
  {
   "cell_type": "code",
   "execution_count": 51,
   "metadata": {
    "scrolled": true
   },
   "outputs": [
    {
     "data": {
      "text/plain": [
       "Unnamed: 0      int64\n",
       "City Name      object\n",
       "Lat           float64\n",
       "Lng           float64\n",
       "Max Temp      float64\n",
       "Humidity      float64\n",
       "Cloudiness    float64\n",
       "Wind Speed    float64\n",
       "Country        object\n",
       "Date          float64\n",
       "dtype: object"
      ]
     },
     "execution_count": 51,
     "metadata": {},
     "output_type": "execute_result"
    }
   ],
   "source": [
    "#read as csv to change datatypes \n",
    "cities = pd.read_csv('output_data/cities.csv')\n",
    "\n",
    "#check dtypes\n",
    "cities.dtypes\n"
   ]
  },
  {
   "cell_type": "code",
   "execution_count": 3,
   "metadata": {},
   "outputs": [
    {
     "data": {
      "text/plain": [
       "Unnamed: 0    0\n",
       "City Name     0\n",
       "Lat           0\n",
       "Lng           0\n",
       "Max Temp      0\n",
       "Humidity      0\n",
       "Cloudiness    0\n",
       "Wind Speed    0\n",
       "Country       0\n",
       "Date          0\n",
       "dtype: int64"
      ]
     },
     "execution_count": 3,
     "metadata": {},
     "output_type": "execute_result"
    }
   ],
   "source": [
    "#no cities with over 100 humidity\n",
    "cities_over100=cities.loc[(cities['Humidity']>100)]\n",
    "cities_over100.count()"
   ]
  },
  {
   "cell_type": "code",
   "execution_count": 4,
   "metadata": {},
   "outputs": [],
   "source": [
    "\n",
    "cities=cities.drop(columns = 'Unnamed: 0')\n",
    "\n"
   ]
  },
  {
   "cell_type": "code",
   "execution_count": 5,
   "metadata": {},
   "outputs": [
    {
     "data": {
      "text/html": [
       "<div>\n",
       "<style scoped>\n",
       "    .dataframe tbody tr th:only-of-type {\n",
       "        vertical-align: middle;\n",
       "    }\n",
       "\n",
       "    .dataframe tbody tr th {\n",
       "        vertical-align: top;\n",
       "    }\n",
       "\n",
       "    .dataframe thead th {\n",
       "        text-align: right;\n",
       "    }\n",
       "</style>\n",
       "<table border=\"1\" class=\"dataframe\">\n",
       "  <thead>\n",
       "    <tr style=\"text-align: right;\">\n",
       "      <th></th>\n",
       "      <th>City Name</th>\n",
       "      <th>Lat</th>\n",
       "      <th>Lng</th>\n",
       "      <th>Max Temp</th>\n",
       "      <th>Humidity</th>\n",
       "      <th>Cloudiness</th>\n",
       "      <th>Wind Speed</th>\n",
       "      <th>Country</th>\n",
       "      <th>Date</th>\n",
       "    </tr>\n",
       "  </thead>\n",
       "  <tbody>\n",
       "    <tr>\n",
       "      <th>0</th>\n",
       "      <td>shrewsbury</td>\n",
       "      <td>52.7101</td>\n",
       "      <td>-2.7521</td>\n",
       "      <td>280.15</td>\n",
       "      <td>87.0</td>\n",
       "      <td>75.0</td>\n",
       "      <td>3.60</td>\n",
       "      <td>GB</td>\n",
       "      <td>1.619569e+09</td>\n",
       "    </tr>\n",
       "    <tr>\n",
       "      <th>1</th>\n",
       "      <td>sangar</td>\n",
       "      <td>63.9242</td>\n",
       "      <td>127.4739</td>\n",
       "      <td>265.12</td>\n",
       "      <td>83.0</td>\n",
       "      <td>47.0</td>\n",
       "      <td>3.82</td>\n",
       "      <td>RU</td>\n",
       "      <td>1.619569e+09</td>\n",
       "    </tr>\n",
       "    <tr>\n",
       "      <th>2</th>\n",
       "      <td>vaini</td>\n",
       "      <td>-21.2000</td>\n",
       "      <td>-175.2000</td>\n",
       "      <td>297.15</td>\n",
       "      <td>83.0</td>\n",
       "      <td>75.0</td>\n",
       "      <td>7.72</td>\n",
       "      <td>TO</td>\n",
       "      <td>1.619569e+09</td>\n",
       "    </tr>\n",
       "    <tr>\n",
       "      <th>3</th>\n",
       "      <td>bredasdorp</td>\n",
       "      <td>-34.5322</td>\n",
       "      <td>20.0403</td>\n",
       "      <td>283.15</td>\n",
       "      <td>93.0</td>\n",
       "      <td>99.0</td>\n",
       "      <td>0.51</td>\n",
       "      <td>ZA</td>\n",
       "      <td>1.619569e+09</td>\n",
       "    </tr>\n",
       "    <tr>\n",
       "      <th>4</th>\n",
       "      <td>el faiyum</td>\n",
       "      <td>NaN</td>\n",
       "      <td>NaN</td>\n",
       "      <td>NaN</td>\n",
       "      <td>NaN</td>\n",
       "      <td>NaN</td>\n",
       "      <td>NaN</td>\n",
       "      <td>NaN</td>\n",
       "      <td>NaN</td>\n",
       "    </tr>\n",
       "    <tr>\n",
       "      <th>...</th>\n",
       "      <td>...</td>\n",
       "      <td>...</td>\n",
       "      <td>...</td>\n",
       "      <td>...</td>\n",
       "      <td>...</td>\n",
       "      <td>...</td>\n",
       "      <td>...</td>\n",
       "      <td>...</td>\n",
       "      <td>...</td>\n",
       "    </tr>\n",
       "    <tr>\n",
       "      <th>622</th>\n",
       "      <td>chimbote</td>\n",
       "      <td>-9.0853</td>\n",
       "      <td>-78.5783</td>\n",
       "      <td>291.86</td>\n",
       "      <td>90.0</td>\n",
       "      <td>76.0</td>\n",
       "      <td>3.11</td>\n",
       "      <td>PE</td>\n",
       "      <td>1.619569e+09</td>\n",
       "    </tr>\n",
       "    <tr>\n",
       "      <th>623</th>\n",
       "      <td>dahegam</td>\n",
       "      <td>23.1667</td>\n",
       "      <td>72.8167</td>\n",
       "      <td>303.15</td>\n",
       "      <td>30.0</td>\n",
       "      <td>40.0</td>\n",
       "      <td>1.54</td>\n",
       "      <td>IN</td>\n",
       "      <td>1.619569e+09</td>\n",
       "    </tr>\n",
       "    <tr>\n",
       "      <th>624</th>\n",
       "      <td>issenye</td>\n",
       "      <td>-2.0000</td>\n",
       "      <td>34.3333</td>\n",
       "      <td>289.22</td>\n",
       "      <td>95.0</td>\n",
       "      <td>34.0</td>\n",
       "      <td>1.48</td>\n",
       "      <td>TZ</td>\n",
       "      <td>1.619569e+09</td>\n",
       "    </tr>\n",
       "    <tr>\n",
       "      <th>625</th>\n",
       "      <td>igarka</td>\n",
       "      <td>67.4667</td>\n",
       "      <td>86.5833</td>\n",
       "      <td>273.55</td>\n",
       "      <td>86.0</td>\n",
       "      <td>100.0</td>\n",
       "      <td>6.40</td>\n",
       "      <td>RU</td>\n",
       "      <td>1.619569e+09</td>\n",
       "    </tr>\n",
       "    <tr>\n",
       "      <th>626</th>\n",
       "      <td>filadelfia</td>\n",
       "      <td>39.9523</td>\n",
       "      <td>-75.1638</td>\n",
       "      <td>295.37</td>\n",
       "      <td>46.0</td>\n",
       "      <td>75.0</td>\n",
       "      <td>2.06</td>\n",
       "      <td>US</td>\n",
       "      <td>1.619569e+09</td>\n",
       "    </tr>\n",
       "  </tbody>\n",
       "</table>\n",
       "<p>627 rows × 9 columns</p>\n",
       "</div>"
      ],
      "text/plain": [
       "      City Name      Lat       Lng  Max Temp  Humidity  Cloudiness  \\\n",
       "0    shrewsbury  52.7101   -2.7521    280.15      87.0        75.0   \n",
       "1        sangar  63.9242  127.4739    265.12      83.0        47.0   \n",
       "2         vaini -21.2000 -175.2000    297.15      83.0        75.0   \n",
       "3    bredasdorp -34.5322   20.0403    283.15      93.0        99.0   \n",
       "4     el faiyum      NaN       NaN       NaN       NaN         NaN   \n",
       "..          ...      ...       ...       ...       ...         ...   \n",
       "622    chimbote  -9.0853  -78.5783    291.86      90.0        76.0   \n",
       "623     dahegam  23.1667   72.8167    303.15      30.0        40.0   \n",
       "624     issenye  -2.0000   34.3333    289.22      95.0        34.0   \n",
       "625      igarka  67.4667   86.5833    273.55      86.0       100.0   \n",
       "626  filadelfia  39.9523  -75.1638    295.37      46.0        75.0   \n",
       "\n",
       "     Wind Speed Country          Date  \n",
       "0          3.60      GB  1.619569e+09  \n",
       "1          3.82      RU  1.619569e+09  \n",
       "2          7.72      TO  1.619569e+09  \n",
       "3          0.51      ZA  1.619569e+09  \n",
       "4           NaN     NaN           NaN  \n",
       "..          ...     ...           ...  \n",
       "622        3.11      PE  1.619569e+09  \n",
       "623        1.54      IN  1.619569e+09  \n",
       "624        1.48      TZ  1.619569e+09  \n",
       "625        6.40      RU  1.619569e+09  \n",
       "626        2.06      US  1.619569e+09  \n",
       "\n",
       "[627 rows x 9 columns]"
      ]
     },
     "execution_count": 5,
     "metadata": {},
     "output_type": "execute_result"
    }
   ],
   "source": [
    "cities"
   ]
  },
  {
   "cell_type": "code",
   "execution_count": 6,
   "metadata": {},
   "outputs": [],
   "source": [
    "#set cities as index \n",
    "cities=cities.set_index('City Name')"
   ]
  },
  {
   "cell_type": "code",
   "execution_count": 7,
   "metadata": {},
   "outputs": [],
   "source": [
    "#dropped cities with no data available from api \n",
    "cities_clean = cities.dropna(axis=0,how='all')"
   ]
  },
  {
   "cell_type": "code",
   "execution_count": 11,
   "metadata": {},
   "outputs": [],
   "source": [
    "cities_clean\n",
    "#save cleaned dataframe as csv\n",
    "city_clean = \"output_data/cities_clean.csv\"\n",
    "cities_clean.to_csv(city_clean)"
   ]
  },
  {
   "cell_type": "code",
   "execution_count": 12,
   "metadata": {},
   "outputs": [
    {
     "data": {
      "text/html": [
       "<div>\n",
       "<style scoped>\n",
       "    .dataframe tbody tr th:only-of-type {\n",
       "        vertical-align: middle;\n",
       "    }\n",
       "\n",
       "    .dataframe tbody tr th {\n",
       "        vertical-align: top;\n",
       "    }\n",
       "\n",
       "    .dataframe thead th {\n",
       "        text-align: right;\n",
       "    }\n",
       "</style>\n",
       "<table border=\"1\" class=\"dataframe\">\n",
       "  <thead>\n",
       "    <tr style=\"text-align: right;\">\n",
       "      <th></th>\n",
       "      <th>Lat</th>\n",
       "      <th>Lng</th>\n",
       "      <th>Max Temp</th>\n",
       "      <th>Humidity</th>\n",
       "      <th>Cloudiness</th>\n",
       "      <th>Wind Speed</th>\n",
       "      <th>Country</th>\n",
       "      <th>Date</th>\n",
       "    </tr>\n",
       "    <tr>\n",
       "      <th>City Name</th>\n",
       "      <th></th>\n",
       "      <th></th>\n",
       "      <th></th>\n",
       "      <th></th>\n",
       "      <th></th>\n",
       "      <th></th>\n",
       "      <th></th>\n",
       "      <th></th>\n",
       "    </tr>\n",
       "  </thead>\n",
       "  <tbody>\n",
       "    <tr>\n",
       "      <th>shrewsbury</th>\n",
       "      <td>52.7101</td>\n",
       "      <td>-2.7521</td>\n",
       "      <td>280.15</td>\n",
       "      <td>87.0</td>\n",
       "      <td>75.0</td>\n",
       "      <td>3.60</td>\n",
       "      <td>GB</td>\n",
       "      <td>1.619569e+09</td>\n",
       "    </tr>\n",
       "    <tr>\n",
       "      <th>sangar</th>\n",
       "      <td>63.9242</td>\n",
       "      <td>127.4739</td>\n",
       "      <td>265.12</td>\n",
       "      <td>83.0</td>\n",
       "      <td>47.0</td>\n",
       "      <td>3.82</td>\n",
       "      <td>RU</td>\n",
       "      <td>1.619569e+09</td>\n",
       "    </tr>\n",
       "    <tr>\n",
       "      <th>vaini</th>\n",
       "      <td>-21.2000</td>\n",
       "      <td>-175.2000</td>\n",
       "      <td>297.15</td>\n",
       "      <td>83.0</td>\n",
       "      <td>75.0</td>\n",
       "      <td>7.72</td>\n",
       "      <td>TO</td>\n",
       "      <td>1.619569e+09</td>\n",
       "    </tr>\n",
       "    <tr>\n",
       "      <th>bredasdorp</th>\n",
       "      <td>-34.5322</td>\n",
       "      <td>20.0403</td>\n",
       "      <td>283.15</td>\n",
       "      <td>93.0</td>\n",
       "      <td>99.0</td>\n",
       "      <td>0.51</td>\n",
       "      <td>ZA</td>\n",
       "      <td>1.619569e+09</td>\n",
       "    </tr>\n",
       "    <tr>\n",
       "      <th>chifeng</th>\n",
       "      <td>42.2683</td>\n",
       "      <td>118.9636</td>\n",
       "      <td>283.33</td>\n",
       "      <td>20.0</td>\n",
       "      <td>0.0</td>\n",
       "      <td>9.71</td>\n",
       "      <td>CN</td>\n",
       "      <td>1.619569e+09</td>\n",
       "    </tr>\n",
       "    <tr>\n",
       "      <th>...</th>\n",
       "      <td>...</td>\n",
       "      <td>...</td>\n",
       "      <td>...</td>\n",
       "      <td>...</td>\n",
       "      <td>...</td>\n",
       "      <td>...</td>\n",
       "      <td>...</td>\n",
       "      <td>...</td>\n",
       "    </tr>\n",
       "    <tr>\n",
       "      <th>chimbote</th>\n",
       "      <td>-9.0853</td>\n",
       "      <td>-78.5783</td>\n",
       "      <td>291.86</td>\n",
       "      <td>90.0</td>\n",
       "      <td>76.0</td>\n",
       "      <td>3.11</td>\n",
       "      <td>PE</td>\n",
       "      <td>1.619569e+09</td>\n",
       "    </tr>\n",
       "    <tr>\n",
       "      <th>dahegam</th>\n",
       "      <td>23.1667</td>\n",
       "      <td>72.8167</td>\n",
       "      <td>303.15</td>\n",
       "      <td>30.0</td>\n",
       "      <td>40.0</td>\n",
       "      <td>1.54</td>\n",
       "      <td>IN</td>\n",
       "      <td>1.619569e+09</td>\n",
       "    </tr>\n",
       "    <tr>\n",
       "      <th>issenye</th>\n",
       "      <td>-2.0000</td>\n",
       "      <td>34.3333</td>\n",
       "      <td>289.22</td>\n",
       "      <td>95.0</td>\n",
       "      <td>34.0</td>\n",
       "      <td>1.48</td>\n",
       "      <td>TZ</td>\n",
       "      <td>1.619569e+09</td>\n",
       "    </tr>\n",
       "    <tr>\n",
       "      <th>igarka</th>\n",
       "      <td>67.4667</td>\n",
       "      <td>86.5833</td>\n",
       "      <td>273.55</td>\n",
       "      <td>86.0</td>\n",
       "      <td>100.0</td>\n",
       "      <td>6.40</td>\n",
       "      <td>RU</td>\n",
       "      <td>1.619569e+09</td>\n",
       "    </tr>\n",
       "    <tr>\n",
       "      <th>filadelfia</th>\n",
       "      <td>39.9523</td>\n",
       "      <td>-75.1638</td>\n",
       "      <td>295.37</td>\n",
       "      <td>46.0</td>\n",
       "      <td>75.0</td>\n",
       "      <td>2.06</td>\n",
       "      <td>US</td>\n",
       "      <td>1.619569e+09</td>\n",
       "    </tr>\n",
       "  </tbody>\n",
       "</table>\n",
       "<p>579 rows × 8 columns</p>\n",
       "</div>"
      ],
      "text/plain": [
       "                Lat       Lng  Max Temp  Humidity  Cloudiness  Wind Speed  \\\n",
       "City Name                                                                   \n",
       "shrewsbury  52.7101   -2.7521    280.15      87.0        75.0        3.60   \n",
       "sangar      63.9242  127.4739    265.12      83.0        47.0        3.82   \n",
       "vaini      -21.2000 -175.2000    297.15      83.0        75.0        7.72   \n",
       "bredasdorp -34.5322   20.0403    283.15      93.0        99.0        0.51   \n",
       "chifeng     42.2683  118.9636    283.33      20.0         0.0        9.71   \n",
       "...             ...       ...       ...       ...         ...         ...   \n",
       "chimbote    -9.0853  -78.5783    291.86      90.0        76.0        3.11   \n",
       "dahegam     23.1667   72.8167    303.15      30.0        40.0        1.54   \n",
       "issenye     -2.0000   34.3333    289.22      95.0        34.0        1.48   \n",
       "igarka      67.4667   86.5833    273.55      86.0       100.0        6.40   \n",
       "filadelfia  39.9523  -75.1638    295.37      46.0        75.0        2.06   \n",
       "\n",
       "           Country          Date  \n",
       "City Name                         \n",
       "shrewsbury      GB  1.619569e+09  \n",
       "sangar          RU  1.619569e+09  \n",
       "vaini           TO  1.619569e+09  \n",
       "bredasdorp      ZA  1.619569e+09  \n",
       "chifeng         CN  1.619569e+09  \n",
       "...            ...           ...  \n",
       "chimbote        PE  1.619569e+09  \n",
       "dahegam         IN  1.619569e+09  \n",
       "issenye         TZ  1.619569e+09  \n",
       "igarka          RU  1.619569e+09  \n",
       "filadelfia      US  1.619569e+09  \n",
       "\n",
       "[579 rows x 8 columns]"
      ]
     },
     "execution_count": 12,
     "metadata": {},
     "output_type": "execute_result"
    }
   ],
   "source": [
    "cities_clean"
   ]
  },
  {
   "cell_type": "code",
   "execution_count": 42,
   "metadata": {},
   "outputs": [],
   "source": [
    "#returned to finish and loaded saved csv\n",
    "citiesclean = pd.read_csv('output_data/cities_clean.csv')"
   ]
  },
  {
   "cell_type": "code",
   "execution_count": 43,
   "metadata": {
    "scrolled": true
   },
   "outputs": [
    {
     "data": {
      "text/html": [
       "<div>\n",
       "<style scoped>\n",
       "    .dataframe tbody tr th:only-of-type {\n",
       "        vertical-align: middle;\n",
       "    }\n",
       "\n",
       "    .dataframe tbody tr th {\n",
       "        vertical-align: top;\n",
       "    }\n",
       "\n",
       "    .dataframe thead th {\n",
       "        text-align: right;\n",
       "    }\n",
       "</style>\n",
       "<table border=\"1\" class=\"dataframe\">\n",
       "  <thead>\n",
       "    <tr style=\"text-align: right;\">\n",
       "      <th></th>\n",
       "      <th>City Name</th>\n",
       "      <th>Lat</th>\n",
       "      <th>Lng</th>\n",
       "      <th>Max Temp</th>\n",
       "      <th>Humidity</th>\n",
       "      <th>Cloudiness</th>\n",
       "      <th>Wind Speed</th>\n",
       "      <th>Country</th>\n",
       "      <th>Date</th>\n",
       "    </tr>\n",
       "  </thead>\n",
       "  <tbody>\n",
       "    <tr>\n",
       "      <th>0</th>\n",
       "      <td>shrewsbury</td>\n",
       "      <td>52.7101</td>\n",
       "      <td>-2.7521</td>\n",
       "      <td>280.15</td>\n",
       "      <td>87.0</td>\n",
       "      <td>75.0</td>\n",
       "      <td>3.60</td>\n",
       "      <td>GB</td>\n",
       "      <td>1.619569e+09</td>\n",
       "    </tr>\n",
       "    <tr>\n",
       "      <th>1</th>\n",
       "      <td>sangar</td>\n",
       "      <td>63.9242</td>\n",
       "      <td>127.4739</td>\n",
       "      <td>265.12</td>\n",
       "      <td>83.0</td>\n",
       "      <td>47.0</td>\n",
       "      <td>3.82</td>\n",
       "      <td>RU</td>\n",
       "      <td>1.619569e+09</td>\n",
       "    </tr>\n",
       "    <tr>\n",
       "      <th>2</th>\n",
       "      <td>vaini</td>\n",
       "      <td>-21.2000</td>\n",
       "      <td>-175.2000</td>\n",
       "      <td>297.15</td>\n",
       "      <td>83.0</td>\n",
       "      <td>75.0</td>\n",
       "      <td>7.72</td>\n",
       "      <td>TO</td>\n",
       "      <td>1.619569e+09</td>\n",
       "    </tr>\n",
       "    <tr>\n",
       "      <th>3</th>\n",
       "      <td>bredasdorp</td>\n",
       "      <td>-34.5322</td>\n",
       "      <td>20.0403</td>\n",
       "      <td>283.15</td>\n",
       "      <td>93.0</td>\n",
       "      <td>99.0</td>\n",
       "      <td>0.51</td>\n",
       "      <td>ZA</td>\n",
       "      <td>1.619569e+09</td>\n",
       "    </tr>\n",
       "    <tr>\n",
       "      <th>4</th>\n",
       "      <td>chifeng</td>\n",
       "      <td>42.2683</td>\n",
       "      <td>118.9636</td>\n",
       "      <td>283.33</td>\n",
       "      <td>20.0</td>\n",
       "      <td>0.0</td>\n",
       "      <td>9.71</td>\n",
       "      <td>CN</td>\n",
       "      <td>1.619569e+09</td>\n",
       "    </tr>\n",
       "    <tr>\n",
       "      <th>...</th>\n",
       "      <td>...</td>\n",
       "      <td>...</td>\n",
       "      <td>...</td>\n",
       "      <td>...</td>\n",
       "      <td>...</td>\n",
       "      <td>...</td>\n",
       "      <td>...</td>\n",
       "      <td>...</td>\n",
       "      <td>...</td>\n",
       "    </tr>\n",
       "    <tr>\n",
       "      <th>574</th>\n",
       "      <td>chimbote</td>\n",
       "      <td>-9.0853</td>\n",
       "      <td>-78.5783</td>\n",
       "      <td>291.86</td>\n",
       "      <td>90.0</td>\n",
       "      <td>76.0</td>\n",
       "      <td>3.11</td>\n",
       "      <td>PE</td>\n",
       "      <td>1.619569e+09</td>\n",
       "    </tr>\n",
       "    <tr>\n",
       "      <th>575</th>\n",
       "      <td>dahegam</td>\n",
       "      <td>23.1667</td>\n",
       "      <td>72.8167</td>\n",
       "      <td>303.15</td>\n",
       "      <td>30.0</td>\n",
       "      <td>40.0</td>\n",
       "      <td>1.54</td>\n",
       "      <td>IN</td>\n",
       "      <td>1.619569e+09</td>\n",
       "    </tr>\n",
       "    <tr>\n",
       "      <th>576</th>\n",
       "      <td>issenye</td>\n",
       "      <td>-2.0000</td>\n",
       "      <td>34.3333</td>\n",
       "      <td>289.22</td>\n",
       "      <td>95.0</td>\n",
       "      <td>34.0</td>\n",
       "      <td>1.48</td>\n",
       "      <td>TZ</td>\n",
       "      <td>1.619569e+09</td>\n",
       "    </tr>\n",
       "    <tr>\n",
       "      <th>577</th>\n",
       "      <td>igarka</td>\n",
       "      <td>67.4667</td>\n",
       "      <td>86.5833</td>\n",
       "      <td>273.55</td>\n",
       "      <td>86.0</td>\n",
       "      <td>100.0</td>\n",
       "      <td>6.40</td>\n",
       "      <td>RU</td>\n",
       "      <td>1.619569e+09</td>\n",
       "    </tr>\n",
       "    <tr>\n",
       "      <th>578</th>\n",
       "      <td>filadelfia</td>\n",
       "      <td>39.9523</td>\n",
       "      <td>-75.1638</td>\n",
       "      <td>295.37</td>\n",
       "      <td>46.0</td>\n",
       "      <td>75.0</td>\n",
       "      <td>2.06</td>\n",
       "      <td>US</td>\n",
       "      <td>1.619569e+09</td>\n",
       "    </tr>\n",
       "  </tbody>\n",
       "</table>\n",
       "<p>579 rows × 9 columns</p>\n",
       "</div>"
      ],
      "text/plain": [
       "      City Name      Lat       Lng  Max Temp  Humidity  Cloudiness  \\\n",
       "0    shrewsbury  52.7101   -2.7521    280.15      87.0        75.0   \n",
       "1        sangar  63.9242  127.4739    265.12      83.0        47.0   \n",
       "2         vaini -21.2000 -175.2000    297.15      83.0        75.0   \n",
       "3    bredasdorp -34.5322   20.0403    283.15      93.0        99.0   \n",
       "4       chifeng  42.2683  118.9636    283.33      20.0         0.0   \n",
       "..          ...      ...       ...       ...       ...         ...   \n",
       "574    chimbote  -9.0853  -78.5783    291.86      90.0        76.0   \n",
       "575     dahegam  23.1667   72.8167    303.15      30.0        40.0   \n",
       "576     issenye  -2.0000   34.3333    289.22      95.0        34.0   \n",
       "577      igarka  67.4667   86.5833    273.55      86.0       100.0   \n",
       "578  filadelfia  39.9523  -75.1638    295.37      46.0        75.0   \n",
       "\n",
       "     Wind Speed Country          Date  \n",
       "0          3.60      GB  1.619569e+09  \n",
       "1          3.82      RU  1.619569e+09  \n",
       "2          7.72      TO  1.619569e+09  \n",
       "3          0.51      ZA  1.619569e+09  \n",
       "4          9.71      CN  1.619569e+09  \n",
       "..          ...     ...           ...  \n",
       "574        3.11      PE  1.619569e+09  \n",
       "575        1.54      IN  1.619569e+09  \n",
       "576        1.48      TZ  1.619569e+09  \n",
       "577        6.40      RU  1.619569e+09  \n",
       "578        2.06      US  1.619569e+09  \n",
       "\n",
       "[579 rows x 9 columns]"
      ]
     },
     "execution_count": 43,
     "metadata": {},
     "output_type": "execute_result"
    }
   ],
   "source": [
    "citiesclean"
   ]
  },
  {
   "cell_type": "code",
   "execution_count": 44,
   "metadata": {},
   "outputs": [],
   "source": [
    "#created variables\n",
    "latitude = citiesclean['Lat']\n",
    "temp = citiesclean['Max Temp']\n",
    "humidity = citiesclean['Humidity']\n",
    "cloudiness = citiesclean['Cloudiness']\n",
    "wind = citiesclean['Wind Speed']"
   ]
  },
  {
   "cell_type": "code",
   "execution_count": 53,
   "metadata": {},
   "outputs": [],
   "source": []
  },
  {
   "cell_type": "code",
   "execution_count": 56,
   "metadata": {},
   "outputs": [
    {
     "data": {
      "text/html": [
       "<div>\n",
       "<style scoped>\n",
       "    .dataframe tbody tr th:only-of-type {\n",
       "        vertical-align: middle;\n",
       "    }\n",
       "\n",
       "    .dataframe tbody tr th {\n",
       "        vertical-align: top;\n",
       "    }\n",
       "\n",
       "    .dataframe thead th {\n",
       "        text-align: right;\n",
       "    }\n",
       "</style>\n",
       "<table border=\"1\" class=\"dataframe\">\n",
       "  <thead>\n",
       "    <tr style=\"text-align: right;\">\n",
       "      <th></th>\n",
       "      <th>City Name</th>\n",
       "      <th>Lat</th>\n",
       "      <th>Lng</th>\n",
       "      <th>Max Temp</th>\n",
       "      <th>Humidity</th>\n",
       "      <th>Cloudiness</th>\n",
       "      <th>Wind Speed</th>\n",
       "      <th>Country</th>\n",
       "      <th>Date</th>\n",
       "      <th>Latitude</th>\n",
       "    </tr>\n",
       "  </thead>\n",
       "  <tbody>\n",
       "    <tr>\n",
       "      <th>0</th>\n",
       "      <td>shrewsbury</td>\n",
       "      <td>52.7101</td>\n",
       "      <td>-2.7521</td>\n",
       "      <td>280.15</td>\n",
       "      <td>87.0</td>\n",
       "      <td>75.0</td>\n",
       "      <td>3.60</td>\n",
       "      <td>GB</td>\n",
       "      <td>1.619569e+09</td>\n",
       "      <td>52.7101</td>\n",
       "    </tr>\n",
       "    <tr>\n",
       "      <th>1</th>\n",
       "      <td>sangar</td>\n",
       "      <td>63.9242</td>\n",
       "      <td>127.4739</td>\n",
       "      <td>265.12</td>\n",
       "      <td>83.0</td>\n",
       "      <td>47.0</td>\n",
       "      <td>3.82</td>\n",
       "      <td>RU</td>\n",
       "      <td>1.619569e+09</td>\n",
       "      <td>63.9242</td>\n",
       "    </tr>\n",
       "    <tr>\n",
       "      <th>2</th>\n",
       "      <td>vaini</td>\n",
       "      <td>-21.2000</td>\n",
       "      <td>-175.2000</td>\n",
       "      <td>297.15</td>\n",
       "      <td>83.0</td>\n",
       "      <td>75.0</td>\n",
       "      <td>7.72</td>\n",
       "      <td>TO</td>\n",
       "      <td>1.619569e+09</td>\n",
       "      <td>-21.2000</td>\n",
       "    </tr>\n",
       "    <tr>\n",
       "      <th>3</th>\n",
       "      <td>bredasdorp</td>\n",
       "      <td>-34.5322</td>\n",
       "      <td>20.0403</td>\n",
       "      <td>283.15</td>\n",
       "      <td>93.0</td>\n",
       "      <td>99.0</td>\n",
       "      <td>0.51</td>\n",
       "      <td>ZA</td>\n",
       "      <td>1.619569e+09</td>\n",
       "      <td>-34.5322</td>\n",
       "    </tr>\n",
       "    <tr>\n",
       "      <th>4</th>\n",
       "      <td>chifeng</td>\n",
       "      <td>42.2683</td>\n",
       "      <td>118.9636</td>\n",
       "      <td>283.33</td>\n",
       "      <td>20.0</td>\n",
       "      <td>0.0</td>\n",
       "      <td>9.71</td>\n",
       "      <td>CN</td>\n",
       "      <td>1.619569e+09</td>\n",
       "      <td>42.2683</td>\n",
       "    </tr>\n",
       "  </tbody>\n",
       "</table>\n",
       "</div>"
      ],
      "text/plain": [
       "    City Name      Lat       Lng  Max Temp  Humidity  Cloudiness  Wind Speed  \\\n",
       "0  shrewsbury  52.7101   -2.7521    280.15      87.0        75.0        3.60   \n",
       "1      sangar  63.9242  127.4739    265.12      83.0        47.0        3.82   \n",
       "2       vaini -21.2000 -175.2000    297.15      83.0        75.0        7.72   \n",
       "3  bredasdorp -34.5322   20.0403    283.15      93.0        99.0        0.51   \n",
       "4     chifeng  42.2683  118.9636    283.33      20.0         0.0        9.71   \n",
       "\n",
       "  Country          Date  Latitude  \n",
       "0      GB  1.619569e+09   52.7101  \n",
       "1      RU  1.619569e+09   63.9242  \n",
       "2      TO  1.619569e+09  -21.2000  \n",
       "3      ZA  1.619569e+09  -34.5322  \n",
       "4      CN  1.619569e+09   42.2683  "
      ]
     },
     "execution_count": 56,
     "metadata": {},
     "output_type": "execute_result"
    }
   ],
   "source": [
    "#somewhere the latitude column was dropped but the series was still callable\n",
    "#added new column calle Latitude to show that data \n",
    "citiesclean['Latitude'] = citiesclean['Lat']\n",
    "\n",
    "citiesclean.head()"
   ]
  },
  {
   "cell_type": "code",
   "execution_count": 46,
   "metadata": {
    "scrolled": true
   },
   "outputs": [
    {
     "data": {
      "text/plain": [
       "Text(0.5, 1.0, 'temperature by latitude')"
      ]
     },
     "execution_count": 46,
     "metadata": {},
     "output_type": "execute_result"
    },
    {
     "data": {
      "image/png": "[encoded data removed]",
      "text/plain": [
       "<Figure size 432x288 with 1 Axes>"
      ]
     },
     "metadata": {
      "needs_background": "light"
     },
     "output_type": "display_data"
    }
   ],
   "source": [
    "plt.scatter(latitude, temp)\n",
    "plt.xlabel('Latitude')\n",
    "plt.ylabel('Temperature (k)')\n",
    "plt.title('temperature by latitude')"
   ]
  },
  {
   "cell_type": "markdown",
   "metadata": {},
   "source": [
    "This plot is showing the relationship between temperature and latitude. As you can see the equator has the highest temps, while the northern temperatures have a larger range. "
   ]
  },
  {
   "cell_type": "code",
   "execution_count": 47,
   "metadata": {},
   "outputs": [
    {
     "data": {
      "text/plain": [
       "Text(0.5, 1.0, 'humidity by latitude')"
      ]
     },
     "execution_count": 47,
     "metadata": {},
     "output_type": "execute_result"
    },
    {
     "data": {
      "image/png": "[encoded data removed]",
      "text/plain": [
       "<Figure size 432x288 with 1 Axes>"
      ]
     },
     "metadata": {
      "needs_background": "light"
     },
     "output_type": "display_data"
    }
   ],
   "source": [
    "plt.scatter(latitude, humidity)\n",
    "plt.xlabel('Latitude')\n",
    "plt.ylabel('Humidity (%)')\n",
    "plt.title('humidity by latitude')"
   ]
  },
  {
   "cell_type": "markdown",
   "metadata": {},
   "source": [
    "This plot shows humidity by latitude. From our sample we can see that the Northern latitudes have a greater range. Also around the equator humidity is not recorded below 60%."
   ]
  },
  {
   "cell_type": "code",
   "execution_count": 48,
   "metadata": {},
   "outputs": [
    {
     "data": {
      "text/plain": [
       "Text(0.5, 1.0, 'cloud cover by latitude')"
      ]
     },
     "execution_count": 48,
     "metadata": {},
     "output_type": "execute_result"
    },
    {
     "data": {
      "image/png": "[encoded data removed]",
      "text/plain": [
       "<Figure size 432x288 with 1 Axes>"
      ]
     },
     "metadata": {
      "needs_background": "light"
     },
     "output_type": "display_data"
    }
   ],
   "source": [
    "plt.scatter(latitude, cloudiness)\n",
    "plt.xlabel('Latitude')\n",
    "plt.ylabel('cloud cover (%)')\n",
    "plt.title('cloud cover by latitude')"
   ]
  },
  {
   "cell_type": "markdown",
   "metadata": {},
   "source": [
    "This plot shows cloud cover by latitude. Generally it appears both southern and northern latitudes have fairly similar distribution. The equator however doesnt show cloud cover below around 20%. "
   ]
  },
  {
   "cell_type": "code",
   "execution_count": 49,
   "metadata": {},
   "outputs": [
    {
     "data": {
      "text/plain": [
       "Text(0.5, 1.0, 'wind speed by latitude')"
      ]
     },
     "execution_count": 49,
     "metadata": {},
     "output_type": "execute_result"
    },
    {
     "data": {
      "image/png": "[encoded data removed]",
      "text/plain": [
       "<Figure size 432x288 with 1 Axes>"
      ]
     },
     "metadata": {
      "needs_background": "light"
     },
     "output_type": "display_data"
    }
   ],
   "source": [
    "plt.scatter(latitude, wind)\n",
    "plt.xlabel('Latitude')\n",
    "plt.ylabel('Wind speed (mph)')\n",
    "plt.title('wind speed by latitude')"
   ]
  },
  {
   "cell_type": "markdown",
   "metadata": {},
   "source": [
    "This plot shows wind speed by latitude. Typically most data points in both hemispheres stay below 5 miles per hour. Some outliers do occur in both hemispheres."
   ]
  },
  {
   "cell_type": "code",
   "execution_count": 67,
   "metadata": {},
   "outputs": [],
   "source": [
    "n = citiesclean.loc[(citiesclean['Latitude']>=0)]\n",
    "north = n['Latitude']\n",
    "northtemp= n['Max Temp']\n",
    "northwind = n['Wind Speed']\n",
    "northcloud = n['Cloudiness']\n",
    "northhumid = n['Humidity']"
   ]
  },
  {
   "cell_type": "code",
   "execution_count": 70,
   "metadata": {},
   "outputs": [],
   "source": [
    "(slope, intercept, rvalue, pvalue, stderr) = st.linregress(north,northtemp)\n"
   ]
  },
  {
   "cell_type": "code",
   "execution_count": 71,
   "metadata": {
    "scrolled": false
   },
   "outputs": [
    {
     "data": {
      "text/plain": [
       "Text(0.5, 1.0, 'max temp (k) by latitude N.Hemisphere')"
      ]
     },
     "execution_count": 71,
     "metadata": {},
     "output_type": "execute_result"
    },
    {
     "data": {
      "image/png": "[encoded data removed]",
      "text/plain": [
       "<Figure size 432x288 with 1 Axes>"
      ]
     },
     "metadata": {
      "needs_background": "light"
     },
     "output_type": "display_data"
    }
   ],
   "source": [
    "plt.scatter(north, northtemp)\n",
    "reg = north*slope+intercept\n",
    "plt.plot(north,reg)\n",
    "plt.xlabel('Latitude')\n",
    "plt.ylabel('max temp')\n",
    "plt.title('max temp (k) by latitude N.Hemisphere')"
   ]
  },
  {
   "cell_type": "markdown",
   "metadata": {},
   "source": [
    "in the northern hemisphere as latitude increases max temp decreases. "
   ]
  },
  {
   "cell_type": "code",
   "execution_count": 72,
   "metadata": {},
   "outputs": [],
   "source": [
    "(slope, intercept, rvalue, pvalue, stderr) = st.linregress(north,northhumid)"
   ]
  },
  {
   "cell_type": "code",
   "execution_count": 73,
   "metadata": {
    "scrolled": true
   },
   "outputs": [
    {
     "data": {
      "text/plain": [
       "Text(0.5, 1.0, 'humidity by latitude in N.Hemisphere')"
      ]
     },
     "execution_count": 73,
     "metadata": {},
     "output_type": "execute_result"
    },
    {
     "data": {
      "image/png": "[encoded data removed]",
      "text/plain": [
       "<Figure size 432x288 with 1 Axes>"
      ]
     },
     "metadata": {
      "needs_background": "light"
     },
     "output_type": "display_data"
    }
   ],
   "source": [
    "plt.scatter(north, northhumid)\n",
    "reg2 = north*slope+intercept\n",
    "plt.plot(north,reg2)\n",
    "plt.xlabel('Latitude')\n",
    "plt.ylabel('humidity')\n",
    "plt.title('humidity by latitude in N.Hemisphere')"
   ]
  },
  {
   "cell_type": "markdown",
   "metadata": {},
   "source": [
    "Humidity shows a slight increase as latitude increases"
   ]
  },
  {
   "cell_type": "code",
   "execution_count": 74,
   "metadata": {
    "scrolled": true
   },
   "outputs": [
    {
     "data": {
      "text/plain": [
       "Text(0.5, 1.0, 'windspeed by latitude in N.Hemisphere')"
      ]
     },
     "execution_count": 74,
     "metadata": {},
     "output_type": "execute_result"
    },
    {
     "data": {
      "image/png": "[encoded data removed]",
      "text/plain": [
       "<Figure size 432x288 with 1 Axes>"
      ]
     },
     "metadata": {
      "needs_background": "light"
     },
     "output_type": "display_data"
    }
   ],
   "source": [
    "(slope, intercept, rvalue, pvalue, stderr) = st.linregress(north,northwind)\n",
    "plt.scatter(north, northwind)\n",
    "reg = north*slope+intercept\n",
    "plt.plot(north,reg)\n",
    "plt.xlabel('Latitude')\n",
    "plt.ylabel('windspeed (MPH)')\n",
    "plt.title('windspeed by latitude in N.Hemisphere')"
   ]
  },
  {
   "cell_type": "markdown",
   "metadata": {},
   "source": [
    "Wind speed shows not much change over latitude in the N.hemisphere. "
   ]
  },
  {
   "cell_type": "code",
   "execution_count": 75,
   "metadata": {
    "scrolled": true
   },
   "outputs": [
    {
     "data": {
      "text/plain": [
       "Text(0.5, 1.0, 'cloud cover % by latitude in N.Hemisphere')"
      ]
     },
     "execution_count": 75,
     "metadata": {},
     "output_type": "execute_result"
    },
    {
     "data": {
      "image/png": "[encoded data removed]",
      "text/plain": [
       "<Figure size 432x288 with 1 Axes>"
      ]
     },
     "metadata": {
      "needs_background": "light"
     },
     "output_type": "display_data"
    }
   ],
   "source": [
    "(slope, intercept, rvalue, pvalue, stderr) = st.linregress(north,northcloud)\n",
    "plt.scatter(north, northcloud)\n",
    "reg = north*slope+intercept\n",
    "plt.plot(north,reg)\n",
    "plt.xlabel('Latitude')\n",
    "plt.ylabel('cloudiness')\n",
    "plt.title('cloud cover % by latitude in N.Hemisphere')"
   ]
  },
  {
   "cell_type": "markdown",
   "metadata": {},
   "source": [
    "cloud cover fairly equal distribution over latitude, however a slight increase with latitude. "
   ]
  },
  {
   "cell_type": "code",
   "execution_count": 76,
   "metadata": {},
   "outputs": [],
   "source": [
    "s = citiesclean.loc[(citiesclean['Latitude']<=0)]\n",
    "south = s['Latitude']\n",
    "southtemp= s['Max Temp']\n",
    "southwind = s['Wind Speed']\n",
    "southcloud = s['Cloudiness']\n",
    "southhumid = s['Humidity']"
   ]
  },
  {
   "cell_type": "code",
   "execution_count": 77,
   "metadata": {
    "scrolled": true
   },
   "outputs": [
    {
     "data": {
      "text/plain": [
       "Text(0.5, 1.0, 'cloud cover % by latitude in S.Hemisphere')"
      ]
     },
     "execution_count": 77,
     "metadata": {},
     "output_type": "execute_result"
    },
    {
     "data": {
      "image/png": "[encoded data removed]",
      "text/plain": [
       "<Figure size 432x288 with 1 Axes>"
      ]
     },
     "metadata": {
      "needs_background": "light"
     },
     "output_type": "display_data"
    }
   ],
   "source": [
    "(slope, intercept, rvalue, pvalue, stderr) = st.linregress(south,southcloud)\n",
    "plt.scatter(south, southcloud)\n",
    "reg = south*slope+intercept\n",
    "plt.plot(south,reg)\n",
    "plt.xlabel('Latitude')\n",
    "plt.ylabel('cloudiness')\n",
    "plt.title('cloud cover % by latitude in S.Hemisphere')"
   ]
  },
  {
   "cell_type": "markdown",
   "metadata": {},
   "source": [
    "Increase in cloud cover as latitude increases drawing closer to the equator. "
   ]
  },
  {
   "cell_type": "code",
   "execution_count": 79,
   "metadata": {},
   "outputs": [
    {
     "data": {
      "text/plain": [
       "Text(0.5, 1.0, 'max temp by latitude in S.Hemisphere')"
      ]
     },
     "execution_count": 79,
     "metadata": {},
     "output_type": "execute_result"
    },
    {
     "data": {
      "image/png": "[encoded data removed]",
      "text/plain": [
       "<Figure size 432x288 with 1 Axes>"
      ]
     },
     "metadata": {
      "needs_background": "light"
     },
     "output_type": "display_data"
    }
   ],
   "source": [
    "(slope, intercept, rvalue, pvalue, stderr) = st.linregress(south,southtemp)\n",
    "plt.scatter(south, southtemp)\n",
    "reg = south*slope+intercept\n",
    "plt.plot(south,reg)\n",
    "plt.xlabel('Latitude')\n",
    "plt.ylabel('max temp (k)')\n",
    "plt.title('max temp by latitude in S.Hemisphere')"
   ]
  },
  {
   "cell_type": "markdown",
   "metadata": {},
   "source": [
    "Max temp clearly affected by latitude, temperature increase as latitude approaches equator. "
   ]
  },
  {
   "cell_type": "code",
   "execution_count": 80,
   "metadata": {},
   "outputs": [
    {
     "data": {
      "text/plain": [
       "Text(0.5, 1.0, 'humidity by latitude in S.Hemisphere')"
      ]
     },
     "execution_count": 80,
     "metadata": {},
     "output_type": "execute_result"
    },
    {
     "data": {
      "image/png": "[encoded data removed]",
      "text/plain": [
       "<Figure size 432x288 with 1 Axes>"
      ]
     },
     "metadata": {
      "needs_background": "light"
     },
     "output_type": "display_data"
    }
   ],
   "source": [
    "(slope, intercept, rvalue, pvalue, stderr) = st.linregress(south,southhumid)\n",
    "plt.scatter(south, southhumid)\n",
    "reg = south*slope+intercept\n",
    "plt.plot(south,reg)\n",
    "plt.xlabel('Latitude')\n",
    "plt.ylabel('humidity %')\n",
    "plt.title('humidity by latitude in S.Hemisphere')"
   ]
  },
  {
   "cell_type": "markdown",
   "metadata": {},
   "source": [
    "Humidity shows increase as latitude approaches equator "
   ]
  },
  {
   "cell_type": "code",
   "execution_count": 81,
   "metadata": {},
   "outputs": [
    {
     "data": {
      "text/plain": [
       "Text(0.5, 1.0, 'windspeed by latitude in S.Hemisphere')"
      ]
     },
     "execution_count": 81,
     "metadata": {},
     "output_type": "execute_result"
    },
    {
     "data": {
      "image/png": "[encoded data removed]",
      "text/plain": [
       "<Figure size 432x288 with 1 Axes>"
      ]
     },
     "metadata": {
      "needs_background": "light"
     },
     "output_type": "display_data"
    }
   ],
   "source": [
    "(slope, intercept, rvalue, pvalue, stderr) = st.linregress(south,southwind)\n",
    "plt.scatter(south, southwind)\n",
    "reg = south*slope+intercept\n",
    "plt.plot(south,reg)\n",
    "plt.xlabel('Latitude')\n",
    "plt.ylabel('windspeed(mph)')\n",
    "plt.title('windspeed by latitude in S.Hemisphere')"
   ]
  },
  {
   "cell_type": "markdown",
   "metadata": {},
   "source": [
    "windspeed shows slight decrease towards equator. "
   ]
  },
  {
   "cell_type": "code",
   "execution_count": null,
   "metadata": {},
   "outputs": [],
   "source": []
  }
 ],
 "metadata": {
  "kernelspec": {
   "display_name": "Python [conda env:PythonData] *",
   "language": "python",
   "name": "conda-env-PythonData-py"
  },
  "language_info": {
   "codemirror_mode": {
    "name": "ipython",
    "version": 3
   },
   "file_extension": ".py",
   "mimetype": "text/x-python",
   "name": "python",
   "nbconvert_exporter": "python",
   "pygments_lexer": "ipython3",
   "version": "3.6.10"
  }
 },
 "nbformat": 4,
 "nbformat_minor": 4
}
